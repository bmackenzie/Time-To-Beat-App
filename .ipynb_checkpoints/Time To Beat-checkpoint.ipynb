{
 "cells": [
  {
   "cell_type": "code",
   "execution_count": 41,
   "id": "020c31d6",
   "metadata": {},
   "outputs": [],
   "source": [
    "import requests\n",
    "from bs4 import BeautifulSoup\n",
    "import pandas as pd\n",
    "from howlongtobeatpy import HowLongToBeat\n",
    "# docs https://pypi.org/project/howlongtobeatpy/\n",
    "from fuzzywuzzy import process\n",
    "\n",
    "#API doesn't have rating, scrape the site to grab that, consider just scraping the whole thing"
   ]
  },
  {
   "cell_type": "code",
   "execution_count": 42,
   "id": "b05abe06",
   "metadata": {},
   "outputs": [],
   "source": [
    "headers = {\n",
    "        'User-Agent': 'Mozilla/5.0 (Macintosh; Intel Mac OS X 10_11_6) AppleWebKit/537.36 (KHTML, like Gecko) Chrome/56.0.2924.87 Safari/537.36',\n",
    "    }"
   ]
  },
  {
   "cell_type": "code",
   "execution_count": 43,
   "id": "5ac7a06b",
   "metadata": {},
   "outputs": [
    {
     "ename": "NameError",
     "evalue": "name 'time_main' is not defined",
     "output_type": "error",
     "traceback": [
      "\u001b[1;31m---------------------------------------------------------------------------\u001b[0m",
      "\u001b[1;31mNameError\u001b[0m                                 Traceback (most recent call last)",
      "\u001b[1;32m~\\AppData\\Local\\Temp/ipykernel_18752/2488227377.py\u001b[0m in \u001b[0;36m<module>\u001b[1;34m\u001b[0m\n\u001b[1;32m----> 1\u001b[1;33m \u001b[0mtime_main\u001b[0m\u001b[1;33m\u001b[0m\u001b[1;33m\u001b[0m\u001b[0m\n\u001b[0m\u001b[0;32m      2\u001b[0m \u001b[0mtime_extra\u001b[0m\u001b[1;33m\u001b[0m\u001b[1;33m\u001b[0m\u001b[0m\n\u001b[0;32m      3\u001b[0m \u001b[0mtime_completionist\u001b[0m\u001b[1;33m\u001b[0m\u001b[1;33m\u001b[0m\u001b[0m\n\u001b[0;32m      4\u001b[0m \u001b[0mgame\u001b[0m\u001b[1;33m.\u001b[0m\u001b[0mgame_name\u001b[0m\u001b[1;33m\u001b[0m\u001b[1;33m\u001b[0m\u001b[0m\n",
      "\u001b[1;31mNameError\u001b[0m: name 'time_main' is not defined"
     ]
    }
   ],
   "source": [
    "time_main\n",
    "time_extra\n",
    "time_completionist\n",
    "game.game_name"
   ]
  },
  {
   "cell_type": "code",
   "execution_count": 45,
   "id": "53dd22d3",
   "metadata": {},
   "outputs": [],
   "source": [
    "def search(search_string):\n",
    "    try:\n",
    "        results = HowLongToBeat().search(search_string)\n",
    "        names_dict = {result.game_name:result for result in results}\n",
    "\n",
    "        best_match = process.extract(search_string, names_dict.keys(), limit = 1)\n",
    "        game = names_dict[best_match[0][0]]\n",
    "\n",
    "        time_main = f\"{game.gameplay_main_label}: {game.gameplay_main} {game.gameplay_main_unit}\"\n",
    "        time_extra = f\"{game.gameplay_main_extra_label}: {game.gameplay_main_extra} {game.gameplay_main_extra_unit}\"\n",
    "        time_completionist = f\"{game.gameplay_completionist_label}: {game.gameplay_completionist} {game.gameplay_completionist_unit}\"\n",
    "        game_id = game.game_id\n",
    "        \n",
    "        print(game.game_name)\n",
    "        print(time_main)\n",
    "        print(time_extra)\n",
    "        print(time_completionist)        \n",
    "        \n",
    "        try:\n",
    "            page = requests.get(\"https://howlongtobeat.com/game?id=\" + game_id, headers = headers)\n",
    "            soup = BeautifulSoup(page.text)\n",
    "            div = soup.find_all(\"div\", {\"class\": \"game_chart\"})\n",
    "            rating = div[0].find_all('h5')[0].text\n",
    "            print(f\"Score: {rating}\")\n",
    "        except:\n",
    "            print(\"Rating not found\")\n",
    "    except:\n",
    "        print('Game Not Found, please check for typos')"
   ]
  },
  {
   "cell_type": "code",
   "execution_count": 46,
   "id": "f73a741f",
   "metadata": {},
   "outputs": [
    {
     "name": "stdout",
     "output_type": "stream",
     "text": [
      "Pokémon Sword and Shield\n",
      "Main Story: 25½ Hours\n",
      "Main + Extra: 43 Hours\n",
      "Completionist: 97½ Hours\n",
      "65235\n",
      "Score: 71% Rating\n"
     ]
    }
   ],
   "source": [
    "search(\"pokemon shield\")"
   ]
  },
  {
   "cell_type": "code",
   "execution_count": 18,
   "id": "d9431fc0",
   "metadata": {},
   "outputs": [],
   "source": [
    "\n",
    "\n",
    "url = \"https://howlongtobeat.com/game?id=\" + str(65235)\n"
   ]
  },
  {
   "cell_type": "code",
   "execution_count": 19,
   "id": "4ba1ec46",
   "metadata": {},
   "outputs": [],
   "source": [
    "div = soup.find_all(\"div\", {\"class\": \"game_chart\"})"
   ]
  },
  {
   "cell_type": "code",
   "execution_count": 38,
   "id": "b1370487",
   "metadata": {},
   "outputs": [
    {
     "data": {
      "text/plain": [
       "'71% Rating'"
      ]
     },
     "execution_count": 38,
     "metadata": {},
     "output_type": "execute_result"
    }
   ],
   "source": [
    "div[0].find_all('h5')[0].text"
   ]
  },
  {
   "cell_type": "code",
   "execution_count": null,
   "id": "bf934af2",
   "metadata": {},
   "outputs": [],
   "source": []
  }
 ],
 "metadata": {
  "kernelspec": {
   "display_name": "Python 3 (ipykernel)",
   "language": "python",
   "name": "python3"
  },
  "language_info": {
   "codemirror_mode": {
    "name": "ipython",
    "version": 3
   },
   "file_extension": ".py",
   "mimetype": "text/x-python",
   "name": "python",
   "nbconvert_exporter": "python",
   "pygments_lexer": "ipython3",
   "version": "3.9.8"
  }
 },
 "nbformat": 4,
 "nbformat_minor": 5
}
