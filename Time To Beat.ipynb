{
 "cells": [
  {
   "cell_type": "code",
   "execution_count": 25,
   "id": "020c31d6",
   "metadata": {},
   "outputs": [
    {
     "name": "stderr",
     "output_type": "stream",
     "text": [
      "C:\\Users\\Brian\\AppData\\Local\\Programs\\Python\\Python39\\lib\\site-packages\\fuzzywuzzy\\fuzz.py:11: UserWarning: Using slow pure-python SequenceMatcher. Install python-Levenshtein to remove this warning\n",
      "  warnings.warn('Using slow pure-python SequenceMatcher. Install python-Levenshtein to remove this warning')\n"
     ]
    }
   ],
   "source": [
    "import requests\n",
    "from bs4 import BeautifulSoup\n",
    "import pandas as pd\n",
    "from howlongtobeatpy import HowLongToBeat\n",
    "# docs https://pypi.org/project/howlongtobeatpy/\n",
    "from fuzzywuzzy import process\n",
    "\n",
    "#API doesn't have rating, scrape the site to grab that, consider just scraping the whole thing"
   ]
  },
  {
   "cell_type": "code",
   "execution_count": 56,
   "id": "0acc4cbd",
   "metadata": {},
   "outputs": [],
   "source": [
    "search_string = \"Halo: Combat Evolved\"\n"
   ]
  },
  {
   "cell_type": "code",
   "execution_count": 73,
   "id": "b05abe06",
   "metadata": {},
   "outputs": [],
   "source": [
    "game.gameplay_main\n",
    "game.gameplay_main_unit\n",
    "time_main = f\"{game.gameplay_main_label}: {game.gameplay_main} {game.gameplay_main_unit}\"\n",
    "time_extra = f\"{game.gameplay_main_extra_label}: {game.gameplay_main_extra} {game.gameplay_main_extra_unit}\"\n",
    "time_completionist = f\"{game.gameplay_completionist_label}: {game.gameplay_completionist} {game.gameplay_completionist_unit}\""
   ]
  },
  {
   "cell_type": "code",
   "execution_count": 80,
   "id": "5ac7a06b",
   "metadata": {},
   "outputs": [
    {
     "data": {
      "text/plain": [
       "'Halo: Combat Evolved'"
      ]
     },
     "execution_count": 80,
     "metadata": {},
     "output_type": "execute_result"
    }
   ],
   "source": [
    "time_main\n",
    "time_extra\n",
    "time_completionist\n",
    "game.game_name"
   ]
  },
  {
   "cell_type": "code",
   "execution_count": 84,
   "id": "53dd22d3",
   "metadata": {},
   "outputs": [],
   "source": [
    "def search(search_string):\n",
    "    try:\n",
    "        results = HowLongToBeat().search(search_string)\n",
    "        names_dict = {result.game_name:result for result in results}\n",
    "\n",
    "        best_match = process.extract(search_string, names_dict.keys(), limit = 1)\n",
    "        game = names_dict[best_match[0][0]]\n",
    "\n",
    "        time_main = f\"{game.gameplay_main_label}: {game.gameplay_main} {game.gameplay_main_unit}\"\n",
    "        time_extra = f\"{game.gameplay_main_extra_label}: {game.gameplay_main_extra} {game.gameplay_main_extra_unit}\"\n",
    "        time_completionist = f\"{game.gameplay_completionist_label}: {game.gameplay_completionist} {game.gameplay_completionist_unit}\"\n",
    "\n",
    "        print(game.game_name)\n",
    "        print(time_main)\n",
    "        print(time_extra)\n",
    "        print(time_completionist)\n",
    "    except:\n",
    "        print('Game Not Found, please check for typos')"
   ]
  },
  {
   "cell_type": "code",
   "execution_count": 89,
   "id": "f73a741f",
   "metadata": {},
   "outputs": [
    {
     "name": "stdout",
     "output_type": "stream",
     "text": [
      "Pokémon Sword and Shield\n",
      "Main Story: 25½ Hours\n",
      "Main + Extra: 43 Hours\n",
      "Completionist: 97½ Hours\n"
     ]
    }
   ],
   "source": [
    "search(\"pokemon shield\")"
   ]
  },
  {
   "cell_type": "code",
   "execution_count": null,
   "id": "d9431fc0",
   "metadata": {},
   "outputs": [],
   "source": []
  }
 ],
 "metadata": {
  "kernelspec": {
   "display_name": "Python 3 (ipykernel)",
   "language": "python",
   "name": "python3"
  },
  "language_info": {
   "codemirror_mode": {
    "name": "ipython",
    "version": 3
   },
   "file_extension": ".py",
   "mimetype": "text/x-python",
   "name": "python",
   "nbconvert_exporter": "python",
   "pygments_lexer": "ipython3",
   "version": "3.9.8"
  }
 },
 "nbformat": 4,
 "nbformat_minor": 5
}
