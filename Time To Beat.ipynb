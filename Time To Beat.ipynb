{
 "cells": [
  {
   "cell_type": "code",
   "execution_count": 41,
   "id": "020c31d6",
   "metadata": {},
   "outputs": [],
   "source": [
    "import requests\n",
    "from bs4 import BeautifulSoup\n",
    "import pandas as pd\n",
    "from howlongtobeatpy import HowLongToBeat\n",
    "# docs https://pypi.org/project/howlongtobeatpy/\n",
    "from fuzzywuzzy import process\n",
    "\n",
    "#API doesn't have rating, scrape the site to grab that, consider just scraping the whole thing"
   ]
  },
  {
   "cell_type": "code",
   "execution_count": 42,
   "id": "b05abe06",
   "metadata": {},
   "outputs": [],
   "source": [
    "headers = {\n",
    "        'User-Agent': 'Mozilla/5.0 (Macintosh; Intel Mac OS X 10_11_6) AppleWebKit/537.36 (KHTML, like Gecko) Chrome/56.0.2924.87 Safari/537.36',\n",
    "    }"
   ]
  },
  {
   "cell_type": "code",
   "execution_count": 45,
   "id": "53dd22d3",
   "metadata": {},
   "outputs": [],
   "source": [
    "def search(search_string):\n",
    "    try:\n",
    "        results = HowLongToBeat().search(search_string)\n",
    "        names_dict = {result.game_name:result for result in results}\n",
    "\n",
    "        best_match = process.extract(search_string, names_dict.keys(), limit = 1)\n",
    "        game = names_dict[best_match[0][0]]\n",
    "\n",
    "        time_main = f\"{game.gameplay_main_label}: {game.gameplay_main} {game.gameplay_main_unit}\"\n",
    "        time_extra = f\"{game.gameplay_main_extra_label}: {game.gameplay_main_extra} {game.gameplay_main_extra_unit}\"\n",
    "        time_completionist = f\"{game.gameplay_completionist_label}: {game.gameplay_completionist} {game.gameplay_completionist_unit}\"\n",
    "        game_id = game.game_id\n",
    "        \n",
    "        print(game.game_name)\n",
    "        print(time_main)\n",
    "        print(time_extra)\n",
    "        print(time_completionist)        \n",
    "        \n",
    "        try:\n",
    "            page = requests.get(\"https://howlongtobeat.com/game?id=\" + game_id, headers = headers)\n",
    "            soup = BeautifulSoup(page.text)\n",
    "            div = soup.find_all(\"div\", {\"class\": \"game_chart\"})\n",
    "            rating = div[0].find_all('h5')[0].text\n",
    "            print(f\"Score: {rating}\")\n",
    "        except:\n",
    "            print(\"Rating not found\")\n",
    "    except:\n",
    "        print('Game Not Found, please check for typos')"
   ]
  },
  {
   "cell_type": "code",
   "execution_count": 46,
   "id": "f73a741f",
   "metadata": {},
   "outputs": [
    {
     "name": "stdout",
     "output_type": "stream",
     "text": [
      "Pokémon Sword and Shield\n",
      "Main Story: 25½ Hours\n",
      "Main + Extra: 43 Hours\n",
      "Completionist: 97½ Hours\n",
      "65235\n",
      "Score: 71% Rating\n"
     ]
    }
   ],
   "source": [
    "search(\"pokemon shield\")"
   ]
  },
  {
   "cell_type": "code",
   "execution_count": 18,
   "id": "d9431fc0",
   "metadata": {},
   "outputs": [],
   "source": [
    "\n",
    "\n",
    "url = \"https://howlongtobeat.com/game?id=\" + str(65235)\n"
   ]
  },
  {
   "cell_type": "code",
   "execution_count": 19,
   "id": "733896b1",
   "metadata": {},
   "outputs": [],
   "source": [
    "div = soup.find_all(\"div\", {\"class\": \"game_chart\"})"
   ]
  },
  {
   "cell_type": "code",
   "execution_count": 38,
   "id": "dafc5d71",
   "metadata": {},
   "outputs": [
    {
     "data": {
      "text/plain": [
       "'71% Rating'"
      ]
     },
     "execution_count": 38,
     "metadata": {},
     "output_type": "execute_result"
    }
   ],
   "source": [
    "div[0].find_all('h5')[0].text"
   ]
  },
  {
   "cell_type": "code",
   "execution_count": 60,
   "id": "eb22e48a",
   "metadata": {},
   "outputs": [
    {
     "data": {
      "text/plain": [
       "[<img alt=\"Box Art\" src=\"/games/Halo-_Reach_box_art.png\"/>,\n",
       " <img alt=\"Box Art\" src=\"/games/Halo-_Reach_box_art.png\"/>,\n",
       " <img class=\"evidon-consent-link-image\" src=\"https://c.evidon.com/pub/icong1.png\" style=\"vertical-align: middle;\"/>]"
      ]
     },
     "execution_count": 60,
     "metadata": {},
     "output_type": "execute_result"
    }
   ],
   "source": [
    "page = requests.get(\"https://howlongtobeat.com/game?id=4271\", headers = headers)\n",
    "soup = BeautifulSoup(page.text)\n",
    "div = soup.find_all(\"img\")\n",
    "div"
   ]
  },
  {
   "cell_type": "code",
   "execution_count": 61,
   "id": "1fcb89f6",
   "metadata": {},
   "outputs": [
    {
     "data": {
      "text/plain": [
       "'https://howlongtobeat.com/games/Halo-_Reach_box_art.png'"
      ]
     },
     "execution_count": 61,
     "metadata": {},
     "output_type": "execute_result"
    }
   ],
   "source": [
    "'https://howlongtobeat.com' + div[0]['src']"
   ]
  },
  {
   "cell_type": "code",
   "execution_count": 62,
   "id": "bc90b532",
   "metadata": {},
   "outputs": [
    {
     "data": {
      "text/plain": [
       "'https://howlongtobeat.com/games/Halo-_Reach_box_art.png'"
      ]
     },
     "execution_count": 62,
     "metadata": {},
     "output_type": "execute_result"
    }
   ],
   "source": [
    "'https://howlongtobeat.com' + soup.find_all(\"img\")[0]['src']"
   ]
  },
  {
   "cell_type": "code",
   "execution_count": 57,
   "id": "301eb461",
   "metadata": {},
   "outputs": [
    {
     "name": "stdout",
     "output_type": "stream",
     "text": [
      "Halo: Reach\n",
      "Main Story: 8 Hours\n",
      "Main + Extra: 12½ Hours\n",
      "Completionist: 50½ Hours\n",
      "4271\n",
      "Score: 81% Rating\n"
     ]
    }
   ],
   "source": [
    "search('halo')"
   ]
  },
  {
   "cell_type": "code",
   "execution_count": 63,
   "id": "212c9280",
   "metadata": {},
   "outputs": [],
   "source": [
    "image = 'https://howlongtobeat.com' + soup.find_all(\"img\")[0]['src']"
   ]
  },
  {
   "cell_type": "code",
   "execution_count": 64,
   "id": "dac36d46",
   "metadata": {},
   "outputs": [
    {
     "data": {
      "text/plain": [
       "'https://howlongtobeat.com/games/Halo-_Reach_box_art.png'"
      ]
     },
     "execution_count": 64,
     "metadata": {},
     "output_type": "execute_result"
    }
   ],
   "source": [
    "image"
   ]
  },
  {
   "cell_type": "code",
   "execution_count": null,
   "id": "512eb4bb",
   "metadata": {},
   "outputs": [],
   "source": []
  }
 ],
 "metadata": {
  "kernelspec": {
   "display_name": "Python 3 (ipykernel)",
   "language": "python",
   "name": "python3"
  },
  "language_info": {
   "codemirror_mode": {
    "name": "ipython",
    "version": 3
   },
   "file_extension": ".py",
   "mimetype": "text/x-python",
   "name": "python",
   "nbconvert_exporter": "python",
   "pygments_lexer": "ipython3",
   "version": "3.9.8"
  }
 },
 "nbformat": 4,
 "nbformat_minor": 5
}
